{
 "cells": [
  {
   "cell_type": "code",
   "execution_count": 1,
   "metadata": {},
   "outputs": [],
   "source": [
    "%load_ext autoreload\n",
    "%autoreload 2"
   ]
  },
  {
   "cell_type": "code",
   "execution_count": 2,
   "metadata": {},
   "outputs": [],
   "source": [
    "import sys\n",
    "\n",
    "sys.path.append('../src/')"
   ]
  },
  {
   "cell_type": "code",
   "execution_count": 7,
   "metadata": {},
   "outputs": [
    {
     "name": "stdout",
     "output_type": "stream",
     "text": [
      "{\n",
      "  \"technical_keywords\": [\n",
      "    \"computer science\",\n",
      "    \"programming\",\n",
      "    \"Java\",\n",
      "    \"Ruby\",\n",
      "    \"JavaScript\",\n",
      "    \"Scala\",\n",
      "    \"Go\",\n",
      "    \"systems design\",\n",
      "    \"testing\",\n",
      "    \"statistics aggregation service\",\n",
      "    \"service discovery systems\",\n",
      "    \"error messages\",\n",
      "    \"software development\",\n",
      "    \"code reviews\",\n",
      "    \"design discussions\",\n",
      "    \"unfamiliar systems\",\n",
      "    \"independent research\",\n",
      "    \"mentoring\",\n",
      "    \"open source contributions\",\n",
      "    \"frontend technologies\",\n",
      "    \"HTTP request\",\n",
      "    \"pull requests\",\n",
      "    \"test coverage\",\n",
      "    \"new code bases\",\n",
      "    \"multiple languages\"\n",
      "  ],\n",
      "  \"interpersonal_keywords\": [\n",
      "    \"communication\",\n",
      "    \"collaboration\",\n",
      "    \"feedback\",\n",
      "    \"learning\",\n",
      "    \"problem-solving\",\n",
      "    \"teamwork\",\n",
      "    \"stakeholder management\",\n",
      "    \"writing skills\",\n",
      "    \"explaining work\",\n",
      "    \"soft skills\",\n",
      "    \"interpersonal skills\"\n",
      "  ]\n",
      "}\n"
     ]
    }
   ],
   "source": [
    "from keywords import Keywords\n",
    "\n",
    "test_posting = \"\"\"Who we are\n",
    "About Stripe\n",
    "Stripe is a financial infrastructure platform for businesses. Millions of companies—from the world’s largest enterprises to the most ambitious startups—use Stripe to accept payments, grow their revenue, and accelerate new business opportunities. Our mission is to increase the GDP of the internet, and we have a staggering amount of work ahead. That means you have an unprecedented opportunity to put the global economy within everyone’s reach while doing the most important work of your career.\n",
    "\n",
    "About the team\n",
    "Our internship program will provide an opportunity to work on meaningful products that will grow the GDP of the internet. Through the internship, you will work with many systems and technologies, gain experience in systems design and testing, and have opportunities to present your work to your team and the wider org. Each intern has a dedicated intern manager, and every project is part of the team’s roadmap and will directly help Stripe’s mission.\n",
    "\n",
    "What you’ll do\n",
    "Every internship at Stripe centers around a real, legitimate project that our customers urgently need, touching many parts of our operations and stack. We will support you in shipping it. Yes, you will actually ship it. Some recent projects include rebuilding our statistics aggregation service, building new service discovery systems, and many user facing projects like making it easy to understand error messages on Stripe Checkout. As a Stripe intern, you'll be tackling important projects to increase global commerce, while working alongside exceptional people who insist on doing their best work. You’ll learn from people with high standards who are great at inspiring others to do more and go further. We value technical and personal growth, and see our internship program as a vehicle to foster both.\n",
    "\n",
    "Responsibilities\n",
    "Write software that will be used in production, and has meaningful impact to Stripe\n",
    "Give and receive technical feedback through code reviews or design discussions\n",
    "Collaborate with other engineers and cross-functional stakeholders to proactively seek and incorporate feedback\n",
    "Learn quickly by asking great questions, by working with your intern manager and teammates effectively, and by communicating the status of your work clearly\n",
    "Who you are\n",
    "We’re looking for someone who meets the minimum requirements to be considered for the role. If you meet these requirements, you are encouraged to apply. The preferred qualifications are a bonus, not a requirement.\n",
    "\n",
    "Minimum requirements\n",
    "A strong fundamental understanding of computer science through pursuit of a Bachelor’s, Master’s, or PhD degree in computer science, math, or a related discipline\n",
    "Some experience and familiarity with programming, either through side projects or classwork. We work mostly in Java, Ruby, JavaScript, Scala, and Go. We believe new programming languages can be learned if the fundamentals and general knowledge are present\n",
    "Experience from previous internships or other multi-person projects, including open source contributions, that demonstrate evaluating and receiving feedback from mentors, peers, and stakeholders\n",
    "Ability to learn unfamiliar systems and form an understanding of those systems, through independent research and working with a mentor and subject matter experts\n",
    "Preferred qualifications\n",
    "At least 2 years of university education, or equivalent work experience\n",
    "One or more areas of specialized knowledge balanced with general skills and knowledge, such as knowing more frontend technologies and, at a high level, how a service handles an HTTP request\n",
    "Understanding and some experience writing high quality pull requests, with good test coverage, and working knowledge to complete projects with minimal defects\n",
    "Familiarity with navigating and managing your work in new code bases, with multiple languages\n",
    "Ability to write clearly to explain your work to stakeholders, team members, and other Stripes\n",
    "\n",
    "Pay and benefits\n",
    "The annual US base salary range for this role is $123,500 - $123,500. For sales roles, the range provided is the role’s On Target Earnings (\"OTE\") range, meaning that the range includes both the sales commissions/sales bonuses target and annual base salary for the role. This salary range may be inclusive of several career levels at Stripe and will be narrowed during the interview process based on a number of factors, including the candidate’s experience, qualifications, and location. Applicants interested in this role and who are not located in the US may request the annual salary range for their location during the interview process.\n",
    "\n",
    "Additional benefits for this role may include: equity, company bonus or sales commissions/bonuses; 401(k) plan; medical, dental, and vision benefits; and wellness stipends.\"\"\"\n",
    "\n",
    "_extract_keywords_prompt = \"\"\"You are an expert resume builder. You are tasked with extracting technical and interpersonal \\\n",
    "keyword terms from a job posting. \n",
    "\n",
    "Extract the important entities mentioned in the text below in JSON with the following keys:\n",
    "- technical_keywords\n",
    "- interpersonal_keywords\n",
    "\n",
    "The technical terms should include technical skills, programming languages, experiences, and qualifications mentioned in the job posting. \\\n",
    "The interpersonal terms should include soft skills, interpersonal skills, and other non-technical skills mentioned in the job posting.\n",
    "\n",
    "### Job Posting: \n",
    "{job_posting_content}\n",
    "\n",
    "### Keywords in JSON: \"\"\"\n",
    "\n",
    "kw_extractor = Keywords()"
   ]
  },
  {
   "cell_type": "code",
   "execution_count": null,
   "metadata": {},
   "outputs": [],
   "source": [
    "%%time\n",
    "test_output = kw_extractor.extract_keywords_from_posting(_extract_keywords_prompt, test_posting)\n",
    "print(test_output)"
   ]
  },
  {
   "cell_type": "code",
   "execution_count": null,
   "metadata": {},
   "outputs": [],
   "source": []
  }
 ],
 "metadata": {
  "kernelspec": {
   "display_name": "ml_env",
   "language": "python",
   "name": "python3"
  },
  "language_info": {
   "codemirror_mode": {
    "name": "ipython",
    "version": 3
   },
   "file_extension": ".py",
   "mimetype": "text/x-python",
   "name": "python",
   "nbconvert_exporter": "python",
   "pygments_lexer": "ipython3",
   "version": "3.9.16"
  },
  "orig_nbformat": 4
 },
 "nbformat": 4,
 "nbformat_minor": 2
}
